{
 "cells": [
  {
   "cell_type": "code",
   "execution_count": 1,
   "id": "d12c524d-43ec-4e3a-b15c-22835bcbf58f",
   "metadata": {},
   "outputs": [],
   "source": [
    "froyo = 1"
   ]
  },
  {
   "cell_type": "code",
   "execution_count": null,
   "id": "fb7117d5-088d-4474-827f-d2fac392f907",
   "metadata": {},
   "outputs": [],
   "source": [
    "froid = 2\n"
   ]
  }
 ],
 "metadata": {
  "kernelspec": {
   "display_name": "Python 3",
   "language": "python",
   "name": "python3"
  },
  "language_info": {
   "codemirror_mode": {
    "name": "ipython",
    "version": 3
   },
   "file_extension": ".py",
   "mimetype": "text/x-python",
   "name": "python",
   "nbconvert_exporter": "python",
   "pygments_lexer": "ipython3",
   "version": "3.9.4"
  }
 },
 "nbformat": 4,
 "nbformat_minor": 5
}
